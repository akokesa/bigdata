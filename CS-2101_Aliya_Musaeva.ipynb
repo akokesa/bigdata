{
  "metadata": {
    "language_info": {
      "codemirror_mode": {
        "name": "python",
        "version": 3
      },
      "file_extension": ".py",
      "mimetype": "text/x-python",
      "name": "python",
      "nbconvert_exporter": "python",
      "pygments_lexer": "ipython3",
      "version": "3.8"
    },
    "kernelspec": {
      "name": "python",
      "display_name": "Python (Pyodide)",
      "language": "python"
    }
  },
  "nbformat_minor": 4,
  "nbformat": 4,
  "cells": [
    {
      "cell_type": "markdown",
      "source": "# Big Data in Law Enforcement\n",
      "metadata": {}
    },
    {
      "cell_type": "markdown",
      "source": "## Introduction\n\nBig Data and Cyber Security play a pivotal role in the modern world. Big Data refers to the vast amount of structured and unstructured data that organizations collect and analyze to gain insights, make informed decisions, and improve processes. In the realm of law enforcement, it helps in predicting and preventing criminal activities, enhancing investigations, and ensuring public safety. On the other hand, Cyber Security is the practice of protecting systems, networks, and data from digital threats, ensuring the integrity and confidentiality of information in the age of interconnected technologies.\n",
      "metadata": {}
    },
    {
      "cell_type": "markdown",
      "source": "**Objectives:**\n\n<ul>\n    <li>Provide an introduction to the field of Data Science and its relevance.</li>\n<li>List popular languages for Data Science.</li>\n<li>Highlight commonly used libraries for Data Science.</li>\n<li>Demonstrate basic arithmetic operations in Python.</li>\n<li>Convert minutes to hours using a simple Python expression. </li>\n    </ul>",
      "metadata": {}
    },
    {
      "cell_type": "markdown",
      "source": "<em> Some of the popular languages that Data Scientists use are: </em>\n\n1. Python\n2. R\n3. SQL\n4. Julia\n5. Scala",
      "metadata": {}
    },
    {
      "cell_type": "markdown",
      "source": "<em> Some of the commonly used libraries used by Data Scientists include:</em>\n\nPython:\n\n1. NumPy\n2. pandas\n3. Matplotlib\n4. Seaborn\n\nR:\n\n1. dplyr\n2. ggplot2\n3. caret\n\nJulia:\n\n1. DataFrames\n2. StatsBase\n3. Plots\n4. MLJ\n5. Flux",
      "metadata": {}
    },
    {
      "cell_type": "markdown",
      "source": "| Data Science Tools |\n|---------------------|\n| Jupyter Notebook    |\n| RStudio             |\n| Apache Spark        |\n",
      "metadata": {}
    },
    {
      "cell_type": "markdown",
      "source": "### Below are a few examples of evaluating arithmetic expressions in Python.\n\nNow let's include an arithmetic expression:\n\n\n",
      "metadata": {}
    },
    {
      "cell_type": "code",
      "source": "\n5 + 3 - 2 * 4 / 2",
      "metadata": {
        "trusted": true
      },
      "execution_count": 5,
      "outputs": [
        {
          "execution_count": 5,
          "output_type": "execute_result",
          "data": {
            "text/plain": "4.0"
          },
          "metadata": {}
        }
      ]
    },
    {
      "cell_type": "markdown",
      "source": "# This is a simple arithmetic expression\n",
      "metadata": {}
    },
    {
      "cell_type": "code",
      "source": "result = (4 * 6) + 9\nresult",
      "metadata": {
        "trusted": true
      },
      "execution_count": 3,
      "outputs": [
        {
          "execution_count": 3,
          "output_type": "execute_result",
          "data": {
            "text/plain": "33"
          },
          "metadata": {}
        }
      ]
    },
    {
      "cell_type": "markdown",
      "source": "# This will convert 300 minutes to hours by dividing by 60.",
      "metadata": {}
    },
    {
      "cell_type": "code",
      "source": "minutes = 300\nhours = minutes / 60\nhours",
      "metadata": {
        "trusted": true
      },
      "execution_count": 6,
      "outputs": [
        {
          "execution_count": 6,
          "output_type": "execute_result",
          "data": {
            "text/plain": "5.0"
          },
          "metadata": {}
        }
      ]
    },
    {
      "cell_type": "markdown",
      "source": "## Author",
      "metadata": {}
    },
    {
      "cell_type": "markdown",
      "source": "Musaeva Aliya",
      "metadata": {}
    }
  ]
}